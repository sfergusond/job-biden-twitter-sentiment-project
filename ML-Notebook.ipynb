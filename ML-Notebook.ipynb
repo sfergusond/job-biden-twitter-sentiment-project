{
 "cells": [
  {
   "cell_type": "code",
   "execution_count": 24,
   "metadata": {
    "scrolled": true
   },
   "outputs": [
    {
     "data": {
      "application/vnd.jupyter.widget-view+json": {
       "model_id": "068266d1da4f411ba869564a8a72c9f1",
       "version_major": 2,
       "version_minor": 0
      },
      "text/plain": [
       "VBox()"
      ]
     },
     "metadata": {},
     "output_type": "display_data"
    },
    {
     "data": {
      "application/vnd.jupyter.widget-view+json": {
       "model_id": "",
       "version_major": 2,
       "version_minor": 0
      },
      "text/plain": [
       "FloatProgress(value=0.0, bar_style='info', description='Progress:', layout=Layout(height='25px', width='50%'),…"
      ]
     },
     "metadata": {},
     "output_type": "display_data"
    }
   ],
   "source": [
    "raw = spark.read.json('s3://macs-30123-final-sentiment-temp/final/tweets_data_*.json', multiLine=True)"
   ]
  },
  {
   "cell_type": "code",
   "execution_count": 47,
   "metadata": {},
   "outputs": [
    {
     "data": {
      "application/vnd.jupyter.widget-view+json": {
       "model_id": "f5f828fe162e4106b48f01c1155fa737",
       "version_major": 2,
       "version_minor": 0
      },
      "text/plain": [
       "VBox()"
      ]
     },
     "metadata": {},
     "output_type": "display_data"
    },
    {
     "data": {
      "application/vnd.jupyter.widget-view+json": {
       "model_id": "",
       "version_major": 2,
       "version_minor": 0
      },
      "text/plain": [
       "FloatProgress(value=0.0, bar_style='info', description='Progress:', layout=Layout(height='25px', width='50%'),…"
      ]
     },
     "metadata": {},
     "output_type": "display_data"
    }
   ],
   "source": [
    "# Drop unnecessary columns\n",
    "data = raw.drop('text', 'description')"
   ]
  },
  {
   "cell_type": "code",
   "execution_count": 48,
   "metadata": {},
   "outputs": [
    {
     "data": {
      "application/vnd.jupyter.widget-view+json": {
       "model_id": "51be512c844c411e8d38b0ddda8690ec",
       "version_major": 2,
       "version_minor": 0
      },
      "text/plain": [
       "VBox()"
      ]
     },
     "metadata": {},
     "output_type": "display_data"
    },
    {
     "data": {
      "application/vnd.jupyter.widget-view+json": {
       "model_id": "",
       "version_major": 2,
       "version_minor": 0
      },
      "text/plain": [
       "FloatProgress(value=0.0, bar_style='info', description='Progress:', layout=Layout(height='25px', width='50%'),…"
      ]
     },
     "metadata": {},
     "output_type": "display_data"
    }
   ],
   "source": [
    "# Clean up inconsistencies\n",
    "data = data.withColumnRenamed('sentiment\\r', 'sentiment')\n",
    "data = data.withColumnRenamed('clean_text', 'text')\n",
    "data = data.withColumnRenamed('clean_description', 'description')\n",
    "data = data.withColumn('followers', data['followers'].cast('integer'))\n",
    "data.dropna()\n",
    "data = data.filter(data.text != '')\n",
    "data = data.filter(data.description != '')\n",
    "data = data.replace(float('nan'), 0)"
   ]
  },
  {
   "cell_type": "code",
   "execution_count": 49,
   "metadata": {},
   "outputs": [
    {
     "data": {
      "application/vnd.jupyter.widget-view+json": {
       "model_id": "922317da53b44a2d94c0cfa05fcd6d15",
       "version_major": 2,
       "version_minor": 0
      },
      "text/plain": [
       "VBox()"
      ]
     },
     "metadata": {},
     "output_type": "display_data"
    },
    {
     "data": {
      "application/vnd.jupyter.widget-view+json": {
       "model_id": "",
       "version_major": 2,
       "version_minor": 0
      },
      "text/plain": [
       "FloatProgress(value=0.0, bar_style='info', description='Progress:', layout=Layout(height='25px', width='50%'),…"
      ]
     },
     "metadata": {},
     "output_type": "display_data"
    }
   ],
   "source": [
    "# Create numeric index for sentiment score\n",
    "from pyspark.ml.feature import StringIndexer\n",
    "\n",
    "indexer_sent = StringIndexer(inputCol='sentiment', outputCol='sent_code').setHandleInvalid('skip')\n",
    "data = indexer_sent.fit(data).transform(data)\n",
    "data = data.withColumn('sent_code', data['sent_code'].cast('integer'))"
   ]
  },
  {
   "cell_type": "code",
   "execution_count": 50,
   "metadata": {},
   "outputs": [
    {
     "data": {
      "application/vnd.jupyter.widget-view+json": {
       "model_id": "7812b07e7c744e428aa4cfec4b742951",
       "version_major": 2,
       "version_minor": 0
      },
      "text/plain": [
       "VBox()"
      ]
     },
     "metadata": {},
     "output_type": "display_data"
    },
    {
     "data": {
      "application/vnd.jupyter.widget-view+json": {
       "model_id": "",
       "version_major": 2,
       "version_minor": 0
      },
      "text/plain": [
       "FloatProgress(value=0.0, bar_style='info', description='Progress:', layout=Layout(height='25px', width='50%'),…"
      ]
     },
     "metadata": {},
     "output_type": "display_data"
    }
   ],
   "source": [
    "# Create numeric index of language\n",
    "\n",
    "indexer_lang = StringIndexer(inputCol='language', outputCol='lang_code').setHandleInvalid('skip')\n",
    "data = indexer_lang.fit(data).transform(data)\n",
    "data = data.withColumn('lang_code', data['lang_code'].cast('integer'))"
   ]
  },
  {
   "cell_type": "code",
   "execution_count": 51,
   "metadata": {},
   "outputs": [
    {
     "data": {
      "application/vnd.jupyter.widget-view+json": {
       "model_id": "31921dfb9cf24ab3970e095a6bd4d721",
       "version_major": 2,
       "version_minor": 0
      },
      "text/plain": [
       "VBox()"
      ]
     },
     "metadata": {},
     "output_type": "display_data"
    },
    {
     "data": {
      "application/vnd.jupyter.widget-view+json": {
       "model_id": "",
       "version_major": 2,
       "version_minor": 0
      },
      "text/plain": [
       "FloatProgress(value=0.0, bar_style='info', description='Progress:', layout=Layout(height='25px', width='50%'),…"
      ]
     },
     "metadata": {},
     "output_type": "display_data"
    }
   ],
   "source": [
    "# We don't really care about \"mixed\" sentiment results - only positive/neutral/negative\n",
    "# POSITIVE = 3, MIXED = 2, NEGATIVE = 1, NEUTRAL = 0\n",
    "\n",
    "data = data.filter(data.sent_code != 2)\n",
    "data = data.filter(data.language == 'en') # keeping the other languages introduced weird errors"
   ]
  },
  {
   "cell_type": "code",
   "execution_count": 52,
   "metadata": {},
   "outputs": [
    {
     "data": {
      "application/vnd.jupyter.widget-view+json": {
       "model_id": "d0773cd3c23b4aa79961ad76f83e32f7",
       "version_major": 2,
       "version_minor": 0
      },
      "text/plain": [
       "VBox()"
      ]
     },
     "metadata": {},
     "output_type": "display_data"
    },
    {
     "data": {
      "application/vnd.jupyter.widget-view+json": {
       "model_id": "",
       "version_major": 2,
       "version_minor": 0
      },
      "text/plain": [
       "FloatProgress(value=0.0, bar_style='info', description='Progress:', layout=Layout(height='25px', width='50%'),…"
      ]
     },
     "metadata": {},
     "output_type": "display_data"
    },
    {
     "name": "stdout",
     "output_type": "stream",
     "text": [
      "+---------+------+\n",
      "|sent_code| count|\n",
      "+---------+------+\n",
      "|        1| 85672|\n",
      "|        3| 17693|\n",
      "|        0|126439|\n",
      "+---------+------+"
     ]
    }
   ],
   "source": [
    "by_sent = data.groupby('sent_code')\n",
    "by_sent.count().show()"
   ]
  },
  {
   "cell_type": "code",
   "execution_count": 53,
   "metadata": {},
   "outputs": [
    {
     "data": {
      "application/vnd.jupyter.widget-view+json": {
       "model_id": "2188454772b84260a119dfc02e242a1d",
       "version_major": 2,
       "version_minor": 0
      },
      "text/plain": [
       "VBox()"
      ]
     },
     "metadata": {},
     "output_type": "display_data"
    },
    {
     "data": {
      "application/vnd.jupyter.widget-view+json": {
       "model_id": "",
       "version_major": 2,
       "version_minor": 0
      },
      "text/plain": [
       "FloatProgress(value=0.0, bar_style='info', description='Progress:', layout=Layout(height='25px', width='50%'),…"
      ]
     },
     "metadata": {},
     "output_type": "display_data"
    },
    {
     "name": "stdout",
     "output_type": "stream",
     "text": [
      "+---------+-----+\n",
      "|sent_code|count|\n",
      "+---------+-----+\n",
      "|        1|17874|\n",
      "|        3|17520|\n",
      "|        0|17581|\n",
      "+---------+-----+"
     ]
    }
   ],
   "source": [
    "# Resample data given the count results shown above\n",
    "data = data.sampleBy('sent_code', {0: .14, 1: .21, 3: .99}, seed=17)\n",
    "\n",
    "by_sent = data.groupby('sent_code')\n",
    "by_sent.count().show()"
   ]
  },
  {
   "cell_type": "code",
   "execution_count": 94,
   "metadata": {
    "scrolled": true
   },
   "outputs": [
    {
     "data": {
      "application/vnd.jupyter.widget-view+json": {
       "model_id": "df1f6f3ccd94401aaa3ea388e225d0de",
       "version_major": 2,
       "version_minor": 0
      },
      "text/plain": [
       "VBox()"
      ]
     },
     "metadata": {},
     "output_type": "display_data"
    },
    {
     "data": {
      "application/vnd.jupyter.widget-view+json": {
       "model_id": "",
       "version_major": 2,
       "version_minor": 0
      },
      "text/plain": [
       "FloatProgress(value=0.0, bar_style='info', description='Progress:', layout=Layout(height='25px', width='50%'),…"
      ]
     },
     "metadata": {},
     "output_type": "display_data"
    }
   ],
   "source": [
    "# Model 1: text of user descriptions for each tweet\n",
    "from pyspark.ml.feature import Tokenizer, StopWordsRemover, HashingTF, IDF\n",
    "\n",
    "tokened = Tokenizer(inputCol='description', outputCol='words').transform(data)\n",
    "stopwords = StopWordsRemover(inputCol='words', outputCol='terms').transform(tokened)\n",
    "hashed = HashingTF(inputCol='terms', outputCol=\"hash\").transform(stopwords)\n",
    "tf_idf = IDF(inputCol='hash', outputCol=\"features\").fit(hashed).transform(hashed)"
   ]
  },
  {
   "cell_type": "code",
   "execution_count": 95,
   "metadata": {},
   "outputs": [
    {
     "data": {
      "application/vnd.jupyter.widget-view+json": {
       "model_id": "3940b220f82f4caeb3be3f6877cec3f7",
       "version_major": 2,
       "version_minor": 0
      },
      "text/plain": [
       "VBox()"
      ]
     },
     "metadata": {},
     "output_type": "display_data"
    },
    {
     "data": {
      "application/vnd.jupyter.widget-view+json": {
       "model_id": "",
       "version_major": 2,
       "version_minor": 0
      },
      "text/plain": [
       "FloatProgress(value=0.0, bar_style='info', description='Progress:', layout=Layout(height='25px', width='50%'),…"
      ]
     },
     "metadata": {},
     "output_type": "display_data"
    },
    {
     "name": "stdout",
     "output_type": "stream",
     "text": [
      "+---------------------------------------------+--------------------------------------------------------------------------------------------------------------------------------------------------------------------+\n",
      "|terms                                        |features                                                                                                                                                            |\n",
      "+---------------------------------------------+--------------------------------------------------------------------------------------------------------------------------------------------------------------------+\n",
      "|[union, millwright, vested, status, quo]     |(262144,[4842,91039,129199,181609,197130],[6.159095388491933,7.786551806428712,10.184447079227082,7.658718434918827,9.085834790558973])                             |\n",
      "|[digital, soldier, , support, president]     |(262144,[83887,124361,201383,230616,249180],[5.045711782503511,3.375407773184103,4.265553224953936,5.724302665289248,0.19659540058001568])                          |\n",
      "|[public, wealth, , , benefit, society, whole]|(262144,[123725,182793,187849,230591,230962,249180],[8.931684110731714,6.002396936585876,7.294075321330918,6.629099017737668,5.096850743994698,0.39319080116003136])|\n",
      "|[, , ]                                       |(262144,[249180],[0.589786201740047])                                                                                                                               |\n",
      "+---------------------------------------------+--------------------------------------------------------------------------------------------------------------------------------------------------------------------+\n",
      "only showing top 4 rows"
     ]
    }
   ],
   "source": [
    "tf_idf.select('terms', 'features').show(4, truncate=False)"
   ]
  },
  {
   "cell_type": "code",
   "execution_count": 101,
   "metadata": {},
   "outputs": [
    {
     "data": {
      "application/vnd.jupyter.widget-view+json": {
       "model_id": "df2189fb02fd466891f822769641fb63",
       "version_major": 2,
       "version_minor": 0
      },
      "text/plain": [
       "VBox()"
      ]
     },
     "metadata": {},
     "output_type": "display_data"
    },
    {
     "data": {
      "application/vnd.jupyter.widget-view+json": {
       "model_id": "",
       "version_major": 2,
       "version_minor": 0
      },
      "text/plain": [
       "FloatProgress(value=0.0, bar_style='info', description='Progress:', layout=Layout(height='25px', width='50%'),…"
      ]
     },
     "metadata": {},
     "output_type": "display_data"
    },
    {
     "name": "stdout",
     "output_type": "stream",
     "text": [
      "+---------+----------+-----+\n",
      "|sent_code|prediction|count|\n",
      "+---------+----------+-----+\n",
      "|        1|       3.0| 1573|\n",
      "|        3|       1.0| 1992|\n",
      "|        3|       3.0| 1882|\n",
      "|        1|       1.0| 2268|\n",
      "|        0|       3.0| 1396|\n",
      "|        0|       0.0| 1914|\n",
      "|        0|       1.0| 1916|\n",
      "|        1|       0.0| 1496|\n",
      "|        3|       0.0| 1388|\n",
      "+---------+----------+-----+"
     ]
    }
   ],
   "source": [
    "from pyspark.ml.tuning import ParamGridBuilder, CrossValidator\n",
    "\n",
    "train, test = tf_idf.randomSplit([0.7, 0.3])\n",
    "\n",
    "logistic = LogisticRegression(labelCol='sent_code', regParam=0.2).fit(train)\n",
    "\n",
    "prediction = logistic.transform(test)\n",
    "prediction.groupBy('sent_code', 'prediction').count().show()"
   ]
  },
  {
   "cell_type": "code",
   "execution_count": 79,
   "metadata": {},
   "outputs": [
    {
     "data": {
      "application/vnd.jupyter.widget-view+json": {
       "model_id": "cd3763e57558494882c91f7ef5625f06",
       "version_major": 2,
       "version_minor": 0
      },
      "text/plain": [
       "VBox()"
      ]
     },
     "metadata": {},
     "output_type": "display_data"
    },
    {
     "data": {
      "application/vnd.jupyter.widget-view+json": {
       "model_id": "",
       "version_major": 2,
       "version_minor": 0
      },
      "text/plain": [
       "FloatProgress(value=0.0, bar_style='info', description='Progress:', layout=Layout(height='25px', width='50%'),…"
      ]
     },
     "metadata": {},
     "output_type": "display_data"
    },
    {
     "name": "stdout",
     "output_type": "stream",
     "text": [
      "+--------------------+---------+---------+---------+\n",
      "|                text|sent_code|followers| features|\n",
      "+--------------------+---------+---------+---------+\n",
      "|you seem very emo...|        3|     4141| [4141.0]|\n",
      "|wheres the boot  ...|        0|      553|  [553.0]|\n",
      "|from the founding...|        0|     1003| [1003.0]|\n",
      "|hopefully biden c...|        0|      277|  [277.0]|\n",
      "|i know it can run...|        0|     1774| [1774.0]|\n",
      "|this has def beco...|        1|     4209| [4209.0]|\n",
      "|not enough time f...|        1|       21|   [21.0]|\n",
      "|theory     dadona...|        0|       18|   [18.0]|\n",
      "|p s  im glad to h...|        3|      153|  [153.0]|\n",
      "|ap sources  biden...|        0|    34459|[34459.0]|\n",
      "|         and confess|        0|    15290|[15290.0]|\n",
      "|joe biden has sai...|        1|      169|  [169.0]|\n",
      "|xi jinping must b...|        3|       69|   [69.0]|\n",
      "|are you smoking c...|        1|        1|    [1.0]|\n",
      "| trump can't believe|        1|      233|  [233.0]|\n",
      "|you just might ge...|        3|     7574| [7574.0]|\n",
      "|       exactly right|        3|     1528| [1528.0]|\n",
      "|well this tweet d...|        3|      165|  [165.0]|\n",
      "|nah  its just a d...|        0|      418|  [418.0]|\n",
      "|      takedowntheccp|        0|     6707| [6707.0]|\n",
      "+--------------------+---------+---------+---------+\n",
      "only showing top 20 rows"
     ]
    }
   ],
   "source": [
    "# Model 2: follower count of each tweet's user\n",
    "by_sent.mean('followers').show()\n",
    "\n",
    "features = ['followers']\n",
    "assembler = VectorAssembler(inputCols = features, outputCol = 'features')\n",
    "\n",
    "follower_data = assembler.transform(data)\n",
    "follower_data[['text', 'sent_code', 'followers', 'features']].show(5)\n",
    "\n",
    "lr = LogisticRegression(featuresCol='features', labelCol='sent_code')\n",
    "train, test = follower_data.randomSplit([0.7, 0.3])\n",
    "model2 = lr.fit(train)\n",
    "\n",
    "trainingSummary = model2.summary\n",
    "evaluationSummary = model2.evaluate(test)"
   ]
  },
  {
   "cell_type": "code",
   "execution_count": 87,
   "metadata": {},
   "outputs": [
    {
     "data": {
      "application/vnd.jupyter.widget-view+json": {
       "model_id": "6f2329205cbc4d7b9814ba7ba0790506",
       "version_major": 2,
       "version_minor": 0
      },
      "text/plain": [
       "VBox()"
      ]
     },
     "metadata": {},
     "output_type": "display_data"
    },
    {
     "data": {
      "application/vnd.jupyter.widget-view+json": {
       "model_id": "",
       "version_major": 2,
       "version_minor": 0
      },
      "text/plain": [
       "FloatProgress(value=0.0, bar_style='info', description='Progress:', layout=Layout(height='25px', width='50%'),…"
      ]
     },
     "metadata": {},
     "output_type": "display_data"
    },
    {
     "name": "stdout",
     "output_type": "stream",
     "text": [
      "\n",
      "False positive rate by label (Training):\n",
      "label 0: 0.0035117461855170744\n",
      "label 1: 0.9907779809059517\n",
      "label 2: 0.0\n",
      "\n",
      "True positive rate by label (Training):\n",
      "label 0: 0.014564686737184702\n",
      "label 1: 0.9968672182504619\n",
      "label 2: 0.0\n",
      "\n",
      "Training Accuracy: 0.3396557306281027\n",
      "Test Accuracy:  0.3441644145559676"
     ]
    }
   ],
   "source": [
    "print(\"\\nFalse positive rate by label (Training):\")\n",
    "for i, rate in enumerate(trainingSummary.falsePositiveRateByLabel):\n",
    "    print(\"label %d: %s\" % (i, rate))\n",
    "\n",
    "print(\"\\nTrue positive rate by label (Training):\")\n",
    "for i, rate in enumerate(trainingSummary.truePositiveRateByLabel):\n",
    "    print(\"label %d: %s\" % (i, rate))\n",
    "    \n",
    "print(\"\\nTraining Accuracy: \" + str(trainingSummary.accuracy))\n",
    "print(\"Test Accuracy: \", str(evaluationSummary.accuracy))"
   ]
  },
  {
   "cell_type": "code",
   "execution_count": null,
   "metadata": {},
   "outputs": [],
   "source": []
  }
 ],
 "metadata": {
  "kernelspec": {
   "display_name": "PySpark",
   "language": "",
   "name": "pysparkkernel"
  },
  "language_info": {
   "codemirror_mode": {
    "name": "python",
    "version": 3
   },
   "mimetype": "text/x-python",
   "name": "pyspark",
   "pygments_lexer": "python3"
  }
 },
 "nbformat": 4,
 "nbformat_minor": 4
}
